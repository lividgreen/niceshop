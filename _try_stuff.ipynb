{
 "cells": [
  {
   "metadata": {
    "ExecuteTime": {
     "end_time": "2025-04-01T05:06:48.106478Z",
     "start_time": "2025-04-01T05:06:48.092576Z"
    }
   },
   "cell_type": "code",
   "source": [
    "from langchain_core.messages import SystemMessage, HumanMessage, AIMessage\n",
    "from langgraph.constants import START, END\n",
    "from langgraph.checkpoint.memory import MemorySaver\n",
    "\n",
    "from langgraph.graph import MessagesState, StateGraph\n",
    "\n",
    "memory = MemorySaver()\n",
    "\n",
    "graph_builder = StateGraph(MessagesState)\n",
    "\n",
    "def system_message(state: MessagesState):\n",
    "    return {\"messages\": [SystemMessage(\"This is SYSTEM message!\")]}\n",
    "\n",
    "def human_message(state: MessagesState):\n",
    "    return {\"messages\": [HumanMessage(\"This is HUMAN message!\")]}\n",
    "\n",
    "def agent_message(state: MessagesState):\n",
    "    return {\"messages\": [AIMessage(\"This is AGENT message!\")]}\n",
    "\n",
    "graph_builder.add_node(system_message)\n",
    "graph_builder.add_node(human_message)\n",
    "graph_builder.add_node(agent_message)\n",
    "\n",
    "graph_builder.add_edge(START, \"system_message\")\n",
    "graph_builder.add_edge(\"system_message\", \"human_message\")\n",
    "graph_builder.add_edge(\"human_message\", \"agent_message\")\n",
    "graph_builder.add_edge(\"agent_message\", END)\n",
    "graph = graph_builder.compile(checkpointer=memory)\n",
    "\n",
    "response = graph.invoke({\"messages\": [\"Hello!\"]},{\"configurable\": {\"thread_id\": \"42\"}})\n",
    "print(response)\n",
    "response = graph.invoke({\"messages\": [\"World!\"]},{\"configurable\": {\"thread_id\": \"42\"}})\n",
    "print(response)\n"
   ],
   "id": "e9de729b7adf08b",
   "outputs": [
    {
     "name": "stdout",
     "output_type": "stream",
     "text": [
      "{'messages': [HumanMessage(content='Hello!', additional_kwargs={}, response_metadata={}, id='96a93631-041a-43b7-8d80-106abce1c201'), SystemMessage(content='This is SYSTEM message!', additional_kwargs={}, response_metadata={}, id='64200472-930a-415a-9caa-adc2973888cb'), HumanMessage(content='This is HUMAN message!', additional_kwargs={}, response_metadata={}, id='1e13cfb7-9fa3-414b-a772-a788c8bdf8d7'), AIMessage(content='This is AGENT message!', additional_kwargs={}, response_metadata={}, id='572a115c-f505-4ced-8625-20a331b7d086')]}\n",
      "{'messages': [HumanMessage(content='Hello!', additional_kwargs={}, response_metadata={}, id='96a93631-041a-43b7-8d80-106abce1c201'), SystemMessage(content='This is SYSTEM message!', additional_kwargs={}, response_metadata={}, id='64200472-930a-415a-9caa-adc2973888cb'), HumanMessage(content='This is HUMAN message!', additional_kwargs={}, response_metadata={}, id='1e13cfb7-9fa3-414b-a772-a788c8bdf8d7'), AIMessage(content='This is AGENT message!', additional_kwargs={}, response_metadata={}, id='572a115c-f505-4ced-8625-20a331b7d086'), HumanMessage(content='World!', additional_kwargs={}, response_metadata={}, id='1648d8ba-825c-4f6f-a1d4-11401fca27a3'), SystemMessage(content='This is SYSTEM message!', additional_kwargs={}, response_metadata={}, id='3137ca41-e1c5-4aaa-a755-91ae222c4b4c'), HumanMessage(content='This is HUMAN message!', additional_kwargs={}, response_metadata={}, id='52101331-e124-4aea-a189-a600022d5629'), AIMessage(content='This is AGENT message!', additional_kwargs={}, response_metadata={}, id='d2cd4aeb-3cb5-406d-b08c-7ea9cf91b729')]}\n"
     ]
    }
   ],
   "execution_count": 4
  },
  {
   "metadata": {
    "ExecuteTime": {
     "end_time": "2025-03-27T08:23:50.515531Z",
     "start_time": "2025-03-27T08:23:50.506526Z"
    }
   },
   "cell_type": "code",
   "source": "",
   "id": "8cf0ac29d8c60f9e",
   "outputs": [],
   "execution_count": null
  },
  {
   "metadata": {},
   "cell_type": "code",
   "outputs": [],
   "execution_count": null,
   "source": "",
   "id": "ad3601f3d9f16b18"
  }
 ],
 "metadata": {
  "kernelspec": {
   "name": "python3",
   "language": "python",
   "display_name": "Python 3 (ipykernel)"
  }
 },
 "nbformat": 5,
 "nbformat_minor": 9
}
